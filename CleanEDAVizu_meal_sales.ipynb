{
 "cells": [
  {
   "cell_type": "markdown",
   "metadata": {
    "colab_type": "text",
    "id": "3Uzal2KBleni"
   },
   "source": [
    "# Importing packages, modules and data"
   ]
  },
  {
   "cell_type": "code",
   "execution_count": 39,
   "metadata": {
    "colab": {},
    "colab_type": "code",
    "id": "plfw-POcysEN"
   },
   "outputs": [],
   "source": [
    "import sys\n",
    "import os\n",
    "import re\n",
    "import itertools\n",
    "import numpy as np\n",
    "import pandas as pd\n",
    "import matplotlib.pyplot as plt\n",
    "import matplotlib.dates as mpd\n",
    "import seaborn as sns\n",
    "import missingno as msno\n",
    "from sklearn.linear_model import LinearRegression\n",
    "import ipywidgets as widg\n",
    "from ipywidgets import interact, interact_manual\n",
    "\n",
    "colab = 'google.colab' in sys.modules\n",
    "in_mem = os.path.exists(\"Medium-Data-Exploration/invoices.csv\")\\\n",
    "         or os.path.exists(\"/content/Medium-Data-Exploration/invoices.csv\")\n",
    "\n",
    "if colab:\n",
    "    from google.colab import files"
   ]
  },
  {
   "cell_type": "code",
   "execution_count": 40,
   "metadata": {
    "colab": {
     "base_uri": "https://localhost:8080/",
     "height": 34
    },
    "colab_type": "code",
    "executionInfo": {
     "elapsed": 6111,
     "status": "ok",
     "timestamp": 1584805390132,
     "user": {
      "displayName": "Maryse Muller",
      "photoUrl": "",
      "userId": "13230828717959946182"
     },
     "user_tz": -60
    },
    "id": "tT4-LufJzRTO",
    "outputId": "e2b97c22-eb28-4792-a359-5a64723d937e"
   },
   "outputs": [],
   "source": [
    "if not in_mem:\n",
    "    !git clone https://github.com/FBosler/Medium-Data-Exploration.git\n",
    "else:\n",
    "    if colab :\n",
    "        dfinvoices = pd.read_csv(\"/content/Medium-Data-Exploration/invoices.csv\")\n",
    "        dfoleads = pd.read_csv(\"/content/Medium-Data-Exploration/order_leads.csv\")\n",
    "        dfsales = pd.read_csv(\"/content/Medium-Data-Exploration/sales_team.csv\")\n",
    "    else:\n",
    "        dfinvoices = pd.read_csv(\"Medium-Data-Exploration/invoices.csv\")\n",
    "        dfoleads = pd.read_csv(\"Medium-Data-Exploration/order_leads.csv\")\n",
    "        dfsales = pd.read_csv(\"Medium-Data-Exploration/sales_team.csv\")"
   ]
  },
  {
   "cell_type": "markdown",
   "metadata": {
    "colab_type": "text",
    "id": "i4w1ttQclbZZ"
   },
   "source": [
    "# First Overview\n"
   ]
  },
  {
   "cell_type": "code",
   "execution_count": 41,
   "metadata": {
    "colab": {
     "base_uri": "https://localhost:8080/",
     "height": 113,
     "referenced_widgets": [
      "74c0f877a6c440b98fab5655f2c64353",
      "feecd028a5254e44bb43710e6deda56d",
      "248db4d6f3414482a37af68c15f3fb8d",
      "9320e2074ca44eed89055a98d487fa3f",
      "2cb439bb6bde4db0a55a53f972c57f44",
      "d75890ce56f446c5a680f486dc0ad2f6",
      "72eb30f63f9b464c9b326dc8f680f14c",
      "c94de0ecc761485ea8202ea753c925fe",
      "f8bac6e6daf64c44a3dd0b63804951d5",
      "4d1135473119479fbf4f7022b6e6c2e3",
      "f27c1a2fb16e4cbeb8a7c5d404bf1d19",
      "8a0f169c72204aad892dda09c00ab280"
     ]
    },
    "colab_type": "code",
    "executionInfo": {
     "elapsed": 6070,
     "status": "ok",
     "timestamp": 1584805390135,
     "user": {
      "displayName": "Maryse Muller",
      "photoUrl": "",
      "userId": "13230828717959946182"
     },
     "user_tz": -60
    },
    "id": "Ndprkyn6KQrT",
    "outputId": "c8295c34-14be-4cd8-ae75-eee16f43b838"
   },
   "outputs": [
    {
     "data": {
      "application/vnd.jupyter.widget-view+json": {
       "model_id": "f5ab61c61e204bb4b6020e16b8ee8fbe",
       "version_major": 2,
       "version_minor": 0
      },
      "text/plain": [
       "interactive(children=(Dropdown(description='x', options=('invoices', 'order leads', 'sales'), value='invoices'…"
      ]
     },
     "metadata": {},
     "output_type": "display_data"
    }
   ],
   "source": [
    "# Printing sampled rows of the dataframes\n",
    "\n",
    "@interact_manual\n",
    "def print_sample(x=['invoices', 'order leads', 'sales'], n=(0,10,1)):\n",
    "  d = {'invoices': dfinvoices, \n",
    "       'order leads': dfoleads,\n",
    "       'sales': dfsales}\n",
    "  return d[x].sample(n)"
   ]
  },
  {
   "cell_type": "code",
   "execution_count": 42,
   "metadata": {
    "colab": {
     "base_uri": "https://localhost:8080/",
     "height": 81,
     "referenced_widgets": [
      "76bea8c1023c431482f43d031f8e02d9",
      "765ca63b189841daa4457a1b0008c410",
      "27f50519ed144caeb68de542238bf6ff",
      "d6d96ff91240445b97aef80f17fa596c",
      "cb628c4dbadc4b8b8343b15354336e15",
      "dc6e76e7262642f8bbf0a282a4e69b20",
      "2fbc58b076c94450b2d79b41d2e38b21",
      "6599b16a108844b4a2f2d5ea647b73ce",
      "81212d3be5154d28815665f4f143235f"
     ]
    },
    "colab_type": "code",
    "executionInfo": {
     "elapsed": 6031,
     "status": "ok",
     "timestamp": 1584805390137,
     "user": {
      "displayName": "Maryse Muller",
      "photoUrl": "",
      "userId": "13230828717959946182"
     },
     "user_tz": -60
    },
    "id": "Cmzy8SF-lHsE",
    "outputId": "34a43665-00a5-49fa-c8f4-17eeb83a5d9f"
   },
   "outputs": [
    {
     "data": {
      "application/vnd.jupyter.widget-view+json": {
       "model_id": "62362533f44a409091c7fb8d0807a514",
       "version_major": 2,
       "version_minor": 0
      },
      "text/plain": [
       "interactive(children=(Dropdown(description='x', options=('invoices', 'order leads', 'sales'), value='invoices'…"
      ]
     },
     "metadata": {},
     "output_type": "display_data"
    }
   ],
   "source": [
    "# Describing each of the 3 dataframes\n",
    "\n",
    "@interact_manual\n",
    "def print_sample(x=['invoices', 'order leads', 'sales']):\n",
    "  d = {'invoices': dfinvoices, \n",
    "       'order leads': dfoleads,\n",
    "       'sales': dfsales}\n",
    "  return d[x].describe(include='all')"
   ]
  },
  {
   "cell_type": "code",
   "execution_count": 43,
   "metadata": {
    "colab": {
     "base_uri": "https://localhost:8080/",
     "height": 113,
     "referenced_widgets": [
      "850ce91dadf243ef98f38760dfc8debc",
      "207e4b1f0b8b4181b4f02a1224700440",
      "c397883b1c934b47961ef341dbef74f0",
      "d4dbd9cd5b9d42a6b0e43e11541dcfc7",
      "946da16420544f8f911537ca3e05751a",
      "4123aed923fa4af2a921365d04f417be",
      "c2f99e0c27c24b65b8e62b80e4aacd7b",
      "c8a68521f8414406af5241d490edcb8f",
      "2086956fb5834dcd865ab1de893bc3b1",
      "fec3772856d9477d9796232ba9c2e68c",
      "c30fa0cf7b094e788c2b6e4fc4058910",
      "8b985dbaacf24ab1bfd89dea7826b371"
     ]
    },
    "colab_type": "code",
    "executionInfo": {
     "elapsed": 6005,
     "status": "ok",
     "timestamp": 1584805390138,
     "user": {
      "displayName": "Maryse Muller",
      "photoUrl": "",
      "userId": "13230828717959946182"
     },
     "user_tz": -60
    },
    "id": "zGxsdpZgAp3-",
    "outputId": "f5d9b41c-f114-43c9-99c4-5741fed760c7"
   },
   "outputs": [
    {
     "data": {
      "application/vnd.jupyter.widget-view+json": {
       "model_id": "eabde5e7547b4927b7421f44b08a2218",
       "version_major": 2,
       "version_minor": 0
      },
      "text/plain": [
       "interactive(children=(Dropdown(description='x', options=('invoices', 'order leads', 'sales'), value='invoices'…"
      ]
     },
     "metadata": {},
     "output_type": "display_data"
    }
   ],
   "source": [
    "# Verifying that there is no null value on the 3 dataframes\n",
    "\n",
    "@interact_manual\n",
    "def print_msno(x=['invoices', 'order leads', 'sales'],\\\n",
    "               y=[ 'bars','heatmap', 'matrix']):\n",
    "  d = {'invoices': dfinvoices, 'order leads': dfoleads,'sales': dfsales}\n",
    "  if y==\"heatmap\":\n",
    "    return msno.heatmap(d[x],figsize=(8,3))\n",
    "  elif y==\"matrix\":\n",
    "    return msno.matrix(d[x],figsize=(8,3))\n",
    "  else:\n",
    "    return msno.bar(d[x],figsize=(8,3))"
   ]
  },
  {
   "cell_type": "code",
   "execution_count": 44,
   "metadata": {
    "colab": {
     "base_uri": "https://localhost:8080/",
     "height": 81,
     "referenced_widgets": [
      "c8c5e4795e3f4d98bf4edee2f1da2608",
      "fe437de5c99f45b9a9310c97199d7e3a",
      "cd05713119cd479082d8f984e35c3100",
      "dbe2708eaebc4f088d26ae1969f47e2d",
      "fcad6c399dee4534954c1a85cb741bbb",
      "3578f10f95564073ac0e3b2011b82872",
      "71fb9f3452ff4cd684417edf46db42b7",
      "8f2a25414dfa4d87ae2e502d6da75c2b",
      "456698a795234e4cbc13107dcdee999e"
     ]
    },
    "colab_type": "code",
    "executionInfo": {
     "elapsed": 5967,
     "status": "ok",
     "timestamp": 1584805390139,
     "user": {
      "displayName": "Maryse Muller",
      "photoUrl": "",
      "userId": "13230828717959946182"
     },
     "user_tz": -60
    },
    "id": "uHXqzSNKGfjn",
    "outputId": "611a2fe5-6538-4adc-e230-d22e9d93a5fb"
   },
   "outputs": [
    {
     "data": {
      "application/vnd.jupyter.widget-view+json": {
       "model_id": "1a3489e73470444c917a0d607dc14cee",
       "version_major": 2,
       "version_minor": 0
      },
      "text/plain": [
       "interactive(children=(Dropdown(description='x', options=('invoices', 'order leads', 'sales'), value='invoices'…"
      ]
     },
     "metadata": {},
     "output_type": "display_data"
    }
   ],
   "source": [
    "# Checking the format of data\n",
    "\n",
    "@interact_manual\n",
    "def check_dtypes(x=['invoices', 'order leads', 'sales']):\n",
    "  d = {'invoices': dfinvoices, 'order leads': dfoleads,'sales': dfsales}\n",
    "  return d[x].dtypes"
   ]
  },
  {
   "cell_type": "markdown",
   "metadata": {
    "colab_type": "text",
    "id": "_WkdTUPwlWpS"
   },
   "source": [
    "# Formatting the data"
   ]
  },
  {
   "cell_type": "code",
   "execution_count": 45,
   "metadata": {
    "colab": {},
    "colab_type": "code",
    "id": "QCkLvAqPDl8F"
   },
   "outputs": [],
   "source": [
    "# Checking and modifying format of the dates\n",
    "\n",
    "dfoleads[\"Date\"] = pd.DatetimeIndex(dfoleads[\"Date\"])\n",
    "dfinvoices[\"Date of Meal\"] = pd.DatetimeIndex(dfinvoices[\"Date of Meal\"])"
   ]
  },
  {
   "cell_type": "code",
   "execution_count": 58,
   "metadata": {},
   "outputs": [],
   "source": [
    "# dfinvoices.drop(columns=[\"Participants List\", \"Number of Participants\"], inplace=True)"
   ]
  },
  {
   "cell_type": "code",
   "execution_count": 66,
   "metadata": {
    "colab": {},
    "colab_type": "code",
    "id": "idXZUNrGtjkH"
   },
   "outputs": [
    {
     "ename": "ValueError",
     "evalue": "cannot insert Participants List, already exists",
     "output_type": "error",
     "traceback": [
      "\u001b[1;31m---------------------------------------------------------------------------\u001b[0m",
      "\u001b[1;31mValueError\u001b[0m                                Traceback (most recent call last)",
      "\u001b[1;32m<ipython-input-66-d608d54ad984>\u001b[0m in \u001b[0;36m<module>\u001b[1;34m\u001b[0m\n\u001b[0;32m      8\u001b[0m \u001b[1;33m\u001b[0m\u001b[0m\n\u001b[0;32m      9\u001b[0m dfinvoices.insert(4, \"Participants List\",\\\n\u001b[1;32m---> 10\u001b[1;33m                   dfinvoices[\"Participants\"].apply(split_part))\n\u001b[0m\u001b[0;32m     11\u001b[0m dfinvoices.insert(5, \"Number of Participants\",\\\n\u001b[0;32m     12\u001b[0m                   dfinvoices[\"Participants List\"].apply(len))\n",
      "\u001b[1;32mC:\\ProgramData\\Anaconda3\\lib\\site-packages\\pandas\\core\\frame.py\u001b[0m in \u001b[0;36minsert\u001b[1;34m(self, loc, column, value, allow_duplicates)\u001b[0m\n\u001b[0;32m   3471\u001b[0m         \u001b[0mvalue\u001b[0m \u001b[1;33m=\u001b[0m \u001b[0mself\u001b[0m\u001b[1;33m.\u001b[0m\u001b[0m_sanitize_column\u001b[0m\u001b[1;33m(\u001b[0m\u001b[0mcolumn\u001b[0m\u001b[1;33m,\u001b[0m \u001b[0mvalue\u001b[0m\u001b[1;33m,\u001b[0m \u001b[0mbroadcast\u001b[0m\u001b[1;33m=\u001b[0m\u001b[1;32mFalse\u001b[0m\u001b[1;33m)\u001b[0m\u001b[1;33m\u001b[0m\u001b[1;33m\u001b[0m\u001b[0m\n\u001b[0;32m   3472\u001b[0m         self._data.insert(loc, column, value,\n\u001b[1;32m-> 3473\u001b[1;33m                           allow_duplicates=allow_duplicates)\n\u001b[0m\u001b[0;32m   3474\u001b[0m \u001b[1;33m\u001b[0m\u001b[0m\n\u001b[0;32m   3475\u001b[0m     \u001b[1;32mdef\u001b[0m \u001b[0massign\u001b[0m\u001b[1;33m(\u001b[0m\u001b[0mself\u001b[0m\u001b[1;33m,\u001b[0m \u001b[1;33m**\u001b[0m\u001b[0mkwargs\u001b[0m\u001b[1;33m)\u001b[0m\u001b[1;33m:\u001b[0m\u001b[1;33m\u001b[0m\u001b[1;33m\u001b[0m\u001b[0m\n",
      "\u001b[1;32mC:\\ProgramData\\Anaconda3\\lib\\site-packages\\pandas\\core\\internals\\managers.py\u001b[0m in \u001b[0;36minsert\u001b[1;34m(self, loc, item, value, allow_duplicates)\u001b[0m\n\u001b[0;32m   1147\u001b[0m         \u001b[1;32mif\u001b[0m \u001b[1;32mnot\u001b[0m \u001b[0mallow_duplicates\u001b[0m \u001b[1;32mand\u001b[0m \u001b[0mitem\u001b[0m \u001b[1;32min\u001b[0m \u001b[0mself\u001b[0m\u001b[1;33m.\u001b[0m\u001b[0mitems\u001b[0m\u001b[1;33m:\u001b[0m\u001b[1;33m\u001b[0m\u001b[1;33m\u001b[0m\u001b[0m\n\u001b[0;32m   1148\u001b[0m             \u001b[1;31m# Should this be a different kind of error??\u001b[0m\u001b[1;33m\u001b[0m\u001b[1;33m\u001b[0m\u001b[1;33m\u001b[0m\u001b[0m\n\u001b[1;32m-> 1149\u001b[1;33m             \u001b[1;32mraise\u001b[0m \u001b[0mValueError\u001b[0m\u001b[1;33m(\u001b[0m\u001b[1;34m'cannot insert {}, already exists'\u001b[0m\u001b[1;33m.\u001b[0m\u001b[0mformat\u001b[0m\u001b[1;33m(\u001b[0m\u001b[0mitem\u001b[0m\u001b[1;33m)\u001b[0m\u001b[1;33m)\u001b[0m\u001b[1;33m\u001b[0m\u001b[1;33m\u001b[0m\u001b[0m\n\u001b[0m\u001b[0;32m   1150\u001b[0m \u001b[1;33m\u001b[0m\u001b[0m\n\u001b[0;32m   1151\u001b[0m         \u001b[1;32mif\u001b[0m \u001b[1;32mnot\u001b[0m \u001b[0misinstance\u001b[0m\u001b[1;33m(\u001b[0m\u001b[0mloc\u001b[0m\u001b[1;33m,\u001b[0m \u001b[0mint\u001b[0m\u001b[1;33m)\u001b[0m\u001b[1;33m:\u001b[0m\u001b[1;33m\u001b[0m\u001b[1;33m\u001b[0m\u001b[0m\n",
      "\u001b[1;31mValueError\u001b[0m: cannot insert Participants List, already exists"
     ]
    }
   ],
   "source": [
    "# Splitting \"participants\", getting the nb of part. and their list for each meal\n",
    "\n",
    "def split_part(long_string):\n",
    "  _=long_string.split(sep='\\n')\n",
    "  _=[s.strip(\"\\\"'[] \").split(sep=\"' '\") for s in _]\n",
    "  return list(itertools.chain.from_iterable(_))\n",
    "\n",
    "\n",
    "dfinvoices.insert(4, \"Participants List\",\\\n",
    "                  dfinvoices[\"Participants\"].apply(split_part))\n",
    "dfinvoices.insert(5, \"Number of Participants\",\\\n",
    "                  dfinvoices[\"Participants List\"].apply(len))"
   ]
  },
  {
   "cell_type": "code",
   "execution_count": 67,
   "metadata": {
    "colab": {
     "base_uri": "https://localhost:8080/",
     "height": 51
    },
    "colab_type": "code",
    "executionInfo": {
     "elapsed": 32453,
     "status": "ok",
     "timestamp": 1584805416774,
     "user": {
      "displayName": "Maryse Muller",
      "photoUrl": "",
      "userId": "13230828717959946182"
     },
     "user_tz": -60
    },
    "id": "xDg5DlsslViY",
    "outputId": "1d37f99b-1134-4f20-f01b-5138e8305a54"
   },
   "outputs": [
    {
     "data": {
      "text/plain": [
       "array([<itertools.chain object at 0x000001C30B0F8B70>,\n",
       "       <itertools.chain object at 0x000001C30B0F84A8>,\n",
       "       <itertools.chain object at 0x000001C30B2136D8>, ...,\n",
       "       <itertools.chain object at 0x000001C30FB41588>,\n",
       "       <itertools.chain object at 0x000001C30FB415F8>,\n",
       "       <itertools.chain object at 0x000001C30FB41668>], dtype=object)"
      ]
     },
     "execution_count": 67,
     "metadata": {},
     "output_type": "execute_result"
    }
   ],
   "source": [
    "# Are the Sales Rep considered as participants of the meal ?\n",
    "\n",
    "li_sales_rep = np.array(dfsales[\"Sales Rep\"].unique())\n",
    "ser = dfinvoices[\"Participants List\"]\n",
    "np.array(ser)\n",
    "# li_temp = [ser.str.contains(s).sum() for s in li_sales_rep]\n",
    "# np.histogram(li_temp) # --> No"
   ]
  },
  {
   "cell_type": "markdown",
   "metadata": {
    "colab_type": "text",
    "id": "K_c7ADoUec2j"
   },
   "source": [
    "# Exploration\n",
    "## Order Leads\n",
    "### Order leads through time"
   ]
  },
  {
   "cell_type": "code",
   "execution_count": 48,
   "metadata": {},
   "outputs": [],
   "source": [
    "plt.rcParams['figure.facecolor'] = (1,1,1,1)"
   ]
  },
  {
   "cell_type": "code",
   "execution_count": 49,
   "metadata": {
    "colab": {
     "base_uri": "https://localhost:8080/",
     "height": 241
    },
    "colab_type": "code",
    "executionInfo": {
     "elapsed": 34381,
     "status": "ok",
     "timestamp": 1584805418752,
     "user": {
      "displayName": "Maryse Muller",
      "photoUrl": "",
      "userId": "13230828717959946182"
     },
     "user_tz": -60
    },
    "id": "M2oSJj3YCJDm",
    "outputId": "a34102b3-1ea5-4a8c-ba40-2b911ce24e0b"
   },
   "outputs": [
    {
     "data": {
      "image/png": "[encoded data removed]",
      "text/plain": [
       "<Figure size 1512x216 with 4 Axes>"
      ]
     },
     "metadata": {},
     "output_type": "display_data"
    }
   ],
   "source": [
    "# Nb of order leads through time (day, week, month, year)\n",
    "\n",
    "fig, axs = plt.subplots(nrows=1, ncols=4)\n",
    "fig.set_size_inches(21,3)\n",
    "fig.subplots_adjust(wspace=0.2)\n",
    "for i,per in enumerate(['D', 'W', 'M', 'Y'],0):\n",
    "  ser = dfoleads.groupby(pd.Grouper(key='Date',freq=per)).size()\n",
    "  ser.plot(ax=axs[i], ms=5, marker='o', mfc='k', ls='-')\n",
    "  axs[i].set(xlim=('2013-10-01','2019-04-01'),ylim=(0,max(ser)*1.1))\n",
    "  axs[i].set_title(\"nb of orders each \"+per)"
   ]
  },
  {
   "cell_type": "markdown",
   "metadata": {
    "colab_type": "text",
    "id": "AdUhGKYNR2KB"
   },
   "source": [
    "---> Constant frequency of order leads from 2014 to 2019."
   ]
  },
  {
   "cell_type": "code",
   "execution_count": 27,
   "metadata": {
    "colab": {},
    "colab_type": "code",
    "id": "rS2RKT9vhA7G"
   },
   "outputs": [],
   "source": [
    "''' Function that calculates for each row of df (can be used with a groupby) :\n",
    "- the value of converted order leads: case \"my_tuple[1]==True\"\n",
    "- OR the value of non converted leads: case \"my_tuple[1]==False\"\n",
    "Each result is aggregated with\n",
    "- np.sum: case \"my_tuple[0]=='sum'\"\n",
    "- OR np.mean: case \"my_tuple[0]=='mean'\"\n",
    "'''\n",
    "\n",
    "def agg_val_c_or_d(df, my_tuple):\n",
    "  my_fun, c_or_d = my_tuple\n",
    "  col_Conv = df['Converted'] if c_or_d else 1-df['Converted']\n",
    "  if my_fun == 'mean':\n",
    "    return np.mean(df['Order Value']*col_Conv)\n",
    "  elif my_fun == 'sum':\n",
    "    return np.sum(df['Order Value']*col_Conv)\n",
    "  else:\n",
    "    print(\"unknown function\")\n",
    "    return None"
   ]
  },
  {
   "cell_type": "code",
   "execution_count": 32,
   "metadata": {
    "colab": {
     "base_uri": "https://localhost:8080/",
     "height": 241
    },
    "colab_type": "code",
    "executionInfo": {
     "elapsed": 4490,
     "status": "ok",
     "timestamp": 1584806722296,
     "user": {
      "displayName": "Maryse Muller",
      "photoUrl": "",
      "userId": "13230828717959946182"
     },
     "user_tz": -60
    },
    "id": "hPvOJBTuiEt_",
    "outputId": "6eca84fe-53d4-477a-ea9a-ed0422309def"
   },
   "outputs": [
    {
     "data": {
      "image/png": "[encoded data removed]",
      "text/plain": [
       "<Figure size 1512x216 with 4 Axes>"
      ]
     },
     "metadata": {},
     "output_type": "display_data"
    }
   ],
   "source": [
    "# Value of order leads through time (day, week, month, year)\n",
    "#  total vs. converted vs. not converted\n",
    "\n",
    "fig, axs = plt.subplots(nrows=1, ncols=4)\n",
    "fig.set_size_inches(21,3)\n",
    "fig.subplots_adjust(wspace=0.2)\n",
    "f_roll = lambda x: x.rolling(3, min_periods=1).mean()\n",
    "for i,per in enumerate(['D', 'W', 'M', 'Y'],0):\n",
    "  gb = dfoleads.groupby(pd.Grouper(key='Date',freq=per))\n",
    "  ser_c = gb.apply(agg_val_c_or_d, ('sum', True))\n",
    "  ser_d = gb.apply(agg_val_c_or_d, ('sum', False))\n",
    "  if per in ['D', 'W']:\n",
    "    f_roll(ser_c).plot(ax=axs[i])\n",
    "    # axs[i].annotate('coucou',xy=(0, 0))\n",
    "    f_roll(ser_d).plot(ax=axs[i], ) \n",
    "    (f_roll(ser_c)+f_roll(ser_d)).plot(ax=axs[i]) \n",
    "  else:\n",
    "    ser_c.plot(ax=axs[i],marker='o')\n",
    "    ser_d.plot(ax=axs[i],marker='o')\n",
    "    (ser_c+ser_d).plot(ax=axs[i],marker='o') #ms=5, marker='o', mfc='k', ls='-'\n",
    "  axs[i].set(xlim=('2013-10-01','2019-04-01'))\n",
    "  axs[i].set_title(\"Sum val order leads \"+per)"
   ]
  },
  {
   "cell_type": "markdown",
   "metadata": {
    "colab_type": "text",
    "id": "sYCKAODJTzoE"
   },
   "source": [
    "Constant value of the order leads.\n",
    "\n",
    "In April 2017, value of the converted order leads is going down. As we've noticed before, the nb of orders remains the same. Therefore, a drop in the conversion rate is to blame."
   ]
  },
  {
   "cell_type": "code",
   "execution_count": 33,
   "metadata": {
    "colab": {},
    "colab_type": "code",
    "id": "suMEoE3onAVQ"
   },
   "outputs": [],
   "source": [
    "d = {'col1': [1, 2], 'col2': [3, 4]}\n",
    "df = pd.DataFrame(d).dropna(how='any')\n",
    "# df = pd.DataFrame(data={'cx': X, 'cwxc': Y}).dropna(how='any')"
   ]
  },
  {
   "cell_type": "code",
   "execution_count": 34,
   "metadata": {
    "colab": {},
    "colab_type": "code",
    "id": "QkODFHvHfjih"
   },
   "outputs": [],
   "source": [
    "def get_reg(X,Y):\n",
    "  df = pd.DataFrame({'x': X, 'y': Y}).dropna(how='any')\n",
    "  x_, y_  = [(df.loc[:,c]).values.reshape(-1,1) for c in df.columns]\n",
    "  x__ = x_-x_[0]\n",
    "  reg = LinearRegression().fit(x__,y_)\n",
    "  return reg"
   ]
  },
  {
   "cell_type": "code",
   "execution_count": 35,
   "metadata": {
    "colab": {
     "base_uri": "https://localhost:8080/",
     "height": 433
    },
    "colab_type": "code",
    "executionInfo": {
     "elapsed": 3474,
     "status": "error",
     "timestamp": 1584822993441,
     "user": {
      "displayName": "Maryse Muller",
      "photoUrl": "",
      "userId": "13230828717959946182"
     },
     "user_tz": -60
    },
    "id": "q5s8iyn5j3PA",
    "outputId": "dc422a19-9bb1-4797-be98-9c3b93840242"
   },
   "outputs": [
    {
     "ename": "NameError",
     "evalue": "name 'mean_val_c_or_d' is not defined",
     "output_type": "error",
     "traceback": [
      "\u001b[1;31m---------------------------------------------------------------------------\u001b[0m",
      "\u001b[1;31mNameError\u001b[0m                                 Traceback (most recent call last)",
      "\u001b[1;32m<ipython-input-35-80665fc8d3cc>\u001b[0m in \u001b[0;36m<module>\u001b[1;34m\u001b[0m\n\u001b[0;32m      6\u001b[0m \u001b[0mgb\u001b[0m \u001b[1;33m=\u001b[0m \u001b[0mdfoleads\u001b[0m\u001b[1;33m.\u001b[0m\u001b[0mgroupby\u001b[0m\u001b[1;33m(\u001b[0m\u001b[0mpd\u001b[0m\u001b[1;33m.\u001b[0m\u001b[0mGrouper\u001b[0m\u001b[1;33m(\u001b[0m\u001b[0mkey\u001b[0m\u001b[1;33m=\u001b[0m\u001b[1;34m'Date'\u001b[0m\u001b[1;33m,\u001b[0m\u001b[0mfreq\u001b[0m\u001b[1;33m=\u001b[0m\u001b[1;34m'D'\u001b[0m\u001b[1;33m)\u001b[0m\u001b[1;33m)\u001b[0m\u001b[1;33m\u001b[0m\u001b[1;33m\u001b[0m\u001b[0m\n\u001b[0;32m      7\u001b[0m \u001b[0mconv_r_mean\u001b[0m \u001b[1;33m=\u001b[0m \u001b[0mgb\u001b[0m\u001b[1;33m[\u001b[0m\u001b[1;34m'Converted'\u001b[0m\u001b[1;33m]\u001b[0m\u001b[1;33m.\u001b[0m\u001b[0mmean\u001b[0m\u001b[1;33m(\u001b[0m\u001b[1;33m)\u001b[0m\u001b[1;33m.\u001b[0m\u001b[0mrolling\u001b[0m\u001b[1;33m(\u001b[0m\u001b[0mn_roll\u001b[0m\u001b[1;33m)\u001b[0m\u001b[1;33m.\u001b[0m\u001b[0mmean\u001b[0m\u001b[1;33m(\u001b[0m\u001b[1;33m)\u001b[0m\u001b[1;33m\u001b[0m\u001b[1;33m\u001b[0m\u001b[0m\n\u001b[1;32m----> 8\u001b[1;33m \u001b[0mval_c\u001b[0m \u001b[1;33m=\u001b[0m \u001b[0mgb\u001b[0m\u001b[1;33m.\u001b[0m\u001b[0mapply\u001b[0m\u001b[1;33m(\u001b[0m\u001b[0mmean_val_c_or_d\u001b[0m\u001b[1;33m,\u001b[0m \u001b[1;32mTrue\u001b[0m\u001b[1;33m)\u001b[0m\u001b[1;33m.\u001b[0m\u001b[0mrolling\u001b[0m\u001b[1;33m(\u001b[0m\u001b[0mn_roll\u001b[0m\u001b[1;33m)\u001b[0m\u001b[1;33m.\u001b[0m\u001b[0mmean\u001b[0m\u001b[1;33m(\u001b[0m\u001b[1;33m)\u001b[0m\u001b[1;33m\u001b[0m\u001b[1;33m\u001b[0m\u001b[0m\n\u001b[0m\u001b[0;32m      9\u001b[0m \u001b[0mval_d\u001b[0m \u001b[1;33m=\u001b[0m \u001b[0mgb\u001b[0m\u001b[1;33m.\u001b[0m\u001b[0mapply\u001b[0m\u001b[1;33m(\u001b[0m\u001b[0mmean_val_c_or_d\u001b[0m\u001b[1;33m,\u001b[0m \u001b[1;32mFalse\u001b[0m\u001b[1;33m)\u001b[0m\u001b[1;33m.\u001b[0m\u001b[0mrolling\u001b[0m\u001b[1;33m(\u001b[0m\u001b[0mn_roll\u001b[0m\u001b[1;33m)\u001b[0m\u001b[1;33m.\u001b[0m\u001b[0mmean\u001b[0m\u001b[1;33m(\u001b[0m\u001b[1;33m)\u001b[0m\u001b[1;33m\u001b[0m\u001b[1;33m\u001b[0m\u001b[0m\n\u001b[0;32m     10\u001b[0m \u001b[1;33m\u001b[0m\u001b[0m\n",
      "\u001b[1;31mNameError\u001b[0m: name 'mean_val_c_or_d' is not defined"
     ]
    },
    {
     "data": {
      "image/png": "[encoded data removed]",
      "text/plain": [
       "<Figure size 1440x216 with 1 Axes>"
      ]
     },
     "metadata": {},
     "output_type": "display_data"
    }
   ],
   "source": [
    "# Mean conv. rate, dismissed commands and confirmed commands on 30 rolling days\n",
    "\n",
    "fig, axs = plt.subplots(nrows=1, ncols=1)\n",
    "fig.set_size_inches(20,3)\n",
    "n_roll = 30\n",
    "gb = dfoleads.groupby(pd.Grouper(key='Date',freq='D'))\n",
    "conv_r_mean = gb['Converted'].mean().rolling(n_roll).mean()\n",
    "val_c = gb.apply(mean_val_c_or_d, True).rolling(n_roll).mean()\n",
    "val_d = gb.apply(mean_val_c_or_d, False).rolling(n_roll).mean()\n",
    "\n",
    "ax = plt.gca()\n",
    "ax.stackplot(val_c.index, [val_c.values, val_d.values],\\\n",
    "             labels=['confirmed commands', 'dismissed commands'])\n",
    "ax.plot(val_c+val_d, label='total value of order leads')\n",
    "X = mpd.date2num(val_c.index)\n",
    "Y = (val_c+val_d).values\n",
    "sns.regplot(x=X, y=Y,\n",
    "            ax=ax, label='total value of order leads (lin. reg.)',\n",
    "            scatter=False, color='g')\n",
    "\n",
    "ax.xaxis.set_major_formatter(dates.DateFormatter(\"%m/%Y\"))\n",
    "ax.xaxis.set_tick_params(rotation=45)\n",
    "\n",
    "ax.legend(loc='center right')\n",
    "ax.set_title(f\"Mean value of Commands ({n_roll} rolling days)\"+per)\n",
    "plt.show()\n",
    "\n",
    "reg = get_reg(X,Y)\n",
    "my_text = 'y = {:.5f} * x + {:.0f}'.format(reg.coef_.ravel()[0],\n",
    "                                        reg.intercept_.ravel()[0])\n",
    "ax.annotate(text=my_text, xy=(0,0), )"
   ]
  },
  {
   "cell_type": "code",
   "execution_count": 309,
   "metadata": {
    "colab": {
     "base_uri": "https://localhost:8080/",
     "height": 34
    },
    "colab_type": "code",
    "executionInfo": {
     "elapsed": 1011,
     "status": "ok",
     "timestamp": 1584822823141,
     "user": {
      "displayName": "Maryse Muller",
      "photoUrl": "",
      "userId": "13230828717959946182"
     },
     "user_tz": -60
    },
    "id": "SBUI-LyH6uRf",
    "outputId": "144e1ce2-24fa-4087-9b28-fa7d07db8b66"
   },
   "outputs": [
    {
     "data": {
      "text/plain": [
       "'y = 0.02932 * x + 5039'"
      ]
     },
     "execution_count": 309,
     "metadata": {
      "tags": []
     },
     "output_type": "execute_result"
    }
   ],
   "source": [
    "my_text"
   ]
  },
  {
   "cell_type": "code",
   "execution_count": 188,
   "metadata": {
    "colab": {
     "base_uri": "https://localhost:8080/",
     "height": 419
    },
    "colab_type": "code",
    "executionInfo": {
     "elapsed": 844,
     "status": "ok",
     "timestamp": 1584818477017,
     "user": {
      "displayName": "Maryse Muller",
      "photoUrl": "",
      "userId": "13230828717959946182"
     },
     "user_tz": -60
    },
    "id": "lkB_eLdkKJx8",
    "outputId": "7a78dc1d-c92f-4895-99de-c805bf2d3dc5"
   },
   "outputs": [
    {
     "data": {
      "text/html": [
       "<div>\n",
       "<style scoped>\n",
       "    .dataframe tbody tr th:only-of-type {\n",
       "        vertical-align: middle;\n",
       "    }\n",
       "\n",
       "    .dataframe tbody tr th {\n",
       "        vertical-align: top;\n",
       "    }\n",
       "\n",
       "    .dataframe thead th {\n",
       "        text-align: right;\n",
       "    }\n",
       "</style>\n",
       "<table border=\"1\" class=\"dataframe\">\n",
       "  <thead>\n",
       "    <tr style=\"text-align: right;\">\n",
       "      <th></th>\n",
       "      <th>x</th>\n",
       "      <th>y</th>\n",
       "    </tr>\n",
       "  </thead>\n",
       "  <tbody>\n",
       "    <tr>\n",
       "      <th>29</th>\n",
       "      <td>735263.0</td>\n",
       "      <td>5090.356216</td>\n",
       "    </tr>\n",
       "    <tr>\n",
       "      <th>30</th>\n",
       "      <td>735264.0</td>\n",
       "      <td>5089.282528</td>\n",
       "    </tr>\n",
       "    <tr>\n",
       "      <th>31</th>\n",
       "      <td>735265.0</td>\n",
       "      <td>5079.019636</td>\n",
       "    </tr>\n",
       "    <tr>\n",
       "      <th>32</th>\n",
       "      <td>735266.0</td>\n",
       "      <td>5083.501949</td>\n",
       "    </tr>\n",
       "    <tr>\n",
       "      <th>33</th>\n",
       "      <td>735267.0</td>\n",
       "      <td>5090.451343</td>\n",
       "    </tr>\n",
       "    <tr>\n",
       "      <th>...</th>\n",
       "      <td>...</td>\n",
       "      <td>...</td>\n",
       "    </tr>\n",
       "    <tr>\n",
       "      <th>1821</th>\n",
       "      <td>737055.0</td>\n",
       "      <td>4956.808693</td>\n",
       "    </tr>\n",
       "    <tr>\n",
       "      <th>1822</th>\n",
       "      <td>737056.0</td>\n",
       "      <td>4978.507698</td>\n",
       "    </tr>\n",
       "    <tr>\n",
       "      <th>1823</th>\n",
       "      <td>737057.0</td>\n",
       "      <td>4961.125066</td>\n",
       "    </tr>\n",
       "    <tr>\n",
       "      <th>1824</th>\n",
       "      <td>737058.0</td>\n",
       "      <td>4956.995512</td>\n",
       "    </tr>\n",
       "    <tr>\n",
       "      <th>1825</th>\n",
       "      <td>737059.0</td>\n",
       "      <td>4936.110538</td>\n",
       "    </tr>\n",
       "  </tbody>\n",
       "</table>\n",
       "<p>1797 rows × 2 columns</p>\n",
       "</div>"
      ],
      "text/plain": [
       "             x            y\n",
       "29    735263.0  5090.356216\n",
       "30    735264.0  5089.282528\n",
       "31    735265.0  5079.019636\n",
       "32    735266.0  5083.501949\n",
       "33    735267.0  5090.451343\n",
       "...        ...          ...\n",
       "1821  737055.0  4956.808693\n",
       "1822  737056.0  4978.507698\n",
       "1823  737057.0  4961.125066\n",
       "1824  737058.0  4956.995512\n",
       "1825  737059.0  4936.110538\n",
       "\n",
       "[1797 rows x 2 columns]"
      ]
     },
     "execution_count": 188,
     "metadata": {
      "tags": []
     },
     "output_type": "execute_result"
    }
   ],
   "source": [
    "pd.DataFrame({'x': X, 'y': Y}).dropna(how='any')"
   ]
  },
  {
   "cell_type": "code",
   "execution_count": 0,
   "metadata": {
    "colab": {},
    "colab_type": "code",
    "id": "eRs3xe6p82om"
   },
   "outputs": [],
   "source": []
  },
  {
   "cell_type": "code",
   "execution_count": 168,
   "metadata": {
    "colab": {
     "base_uri": "https://localhost:8080/",
     "height": 34
    },
    "colab_type": "code",
    "executionInfo": {
     "elapsed": 806,
     "status": "ok",
     "timestamp": 1584815016283,
     "user": {
      "displayName": "Maryse Muller",
      "photoUrl": "",
      "userId": "13230828717959946182"
     },
     "user_tz": -60
    },
    "id": "76QD8bcGyjbo",
    "outputId": "ca5925fd-8c59-4703-d2f5-958961751746"
   },
   "outputs": [
    {
     "data": {
      "text/plain": [
       "['03/12/1975', '20/08/2008', '16/03/2011']"
      ]
     },
     "execution_count": 168,
     "metadata": {
      "tags": []
     },
     "output_type": "execute_result"
    }
   ],
   "source": [
    "import matplotlib.dates as mpd\n",
    "\n",
    "my_date = ['1975-12-03', '2008-08-20', '2011-03-16']\n",
    "my_num_dates = mpd.datestr2num(my_date)\n",
    "my_datetimes = mpd.num2date(my_num_dates)\n",
    "[d.strftime('%d/%m/%Y') for d in my_datetimes]"
   ]
  },
  {
   "cell_type": "code",
   "execution_count": 162,
   "metadata": {
    "colab": {
     "base_uri": "https://localhost:8080/",
     "height": 34
    },
    "colab_type": "code",
    "executionInfo": {
     "elapsed": 816,
     "status": "ok",
     "timestamp": 1584814929204,
     "user": {
      "displayName": "Maryse Muller",
      "photoUrl": "",
      "userId": "13230828717959946182"
     },
     "user_tz": -60
    },
    "id": "ym7hRDQ1U4Dq",
    "outputId": "bdb727dd-90ec-4ba7-fa27-46872470d534"
   },
   "outputs": [
    {
     "data": {
      "text/plain": [
       "datetime.datetime(1975, 12, 3, 0, 0, tzinfo=datetime.timezone.utc)"
      ]
     },
     "execution_count": 162,
     "metadata": {
      "tags": []
     },
     "output_type": "execute_result"
    }
   ],
   "source": [
    "my_date[0]"
   ]
  },
  {
   "cell_type": "markdown",
   "metadata": {
    "colab_type": "text",
    "id": "otjtcClge3xR"
   },
   "source": [
    "Same conclusion as above, with average on 30 rolling days."
   ]
  },
  {
   "cell_type": "code",
   "execution_count": 0,
   "metadata": {
    "colab": {},
    "colab_type": "code",
    "id": "23JJZEYmqKf1"
   },
   "outputs": [],
   "source": [
    "# What about the evolution of the number of meals, number of participants,\n",
    "# price of the meals through time ?"
   ]
  }
 ],
 "metadata": {
  "colab": {
   "authorship_tag": "ABX9TyMxqtzcpzlZsG2zT9MxNMxU",
   "collapsed_sections": [],
   "name": "CleanEDAVizu_meal_sales.ipynb",
   "provenance": [
    {
     "file_id": "1vSWJiTcark44EH7MZIb2o-2TpRo34-Gm",
     "timestamp": 1584353265265
    }
   ]
  },
  "kernelspec": {
   "display_name": "Python 3",
   "language": "python",
   "name": "python3"
  },
  "language_info": {
   "codemirror_mode": {
    "name": "ipython",
    "version": 3
   },
   "file_extension": ".py",
   "mimetype": "text/x-python",
   "name": "python",
   "nbconvert_exporter": "python",
   "pygments_lexer": "ipython3",
   "version": "3.7.3"
  },
  "widgets": {
   "application/vnd.jupyter.widget-state+json": {
    "207e4b1f0b8b4181b4f02a1224700440": {
     "model_module": "@jupyter-widgets/base",
     "model_name": "LayoutModel",
     "state": {
      "_model_module": "@jupyter-widgets/base",
      "_model_module_version": "1.2.0",
      "_model_name": "LayoutModel",
      "_view_count": null,
      "_view_module": "@jupyter-widgets/base",
      "_view_module_version": "1.2.0",
      "_view_name": "LayoutView",
      "align_content": null,
      "align_items": null,
      "align_self": null,
      "border": null,
      "bottom": null,
      "display": null,
      "flex": null,
      "flex_flow": null,
      "grid_area": null,
      "grid_auto_columns": null,
      "grid_auto_flow": null,
      "grid_auto_rows": null,
      "grid_column": null,
      "grid_gap": null,
      "grid_row": null,
      "grid_template_areas": null,
      "grid_template_columns": null,
      "grid_template_rows": null,
      "height": null,
      "justify_content": null,
      "justify_items": null,
      "left": null,
      "margin": null,
      "max_height": null,
      "max_width": null,
      "min_height": null,
      "min_width": null,
      "object_fit": null,
      "object_position": null,
      "order": null,
      "overflow": null,
      "overflow_x": null,
      "overflow_y": null,
      "padding": null,
      "right": null,
      "top": null,
      "visibility": null,
      "width": null
     }
    },
    "2086956fb5834dcd865ab1de893bc3b1": {
     "model_module": "@jupyter-widgets/controls",
     "model_name": "DescriptionStyleModel",
     "state": {
      "_model_module": "@jupyter-widgets/controls",
      "_model_module_version": "1.5.0",
      "_model_name": "DescriptionStyleModel",
      "_view_count": null,
      "_view_module": "@jupyter-widgets/base",
      "_view_module_version": "1.2.0",
      "_view_name": "StyleView",
      "description_width": ""
     }
    },
    "248db4d6f3414482a37af68c15f3fb8d": {
     "model_module": "@jupyter-widgets/controls",
     "model_name": "DropdownModel",
     "state": {
      "_dom_classes": [],
      "_model_module": "@jupyter-widgets/controls",
      "_model_module_version": "1.5.0",
      "_model_name": "DropdownModel",
      "_options_labels": [
       "invoices",
       "order leads",
       "sales"
      ],
      "_view_count": null,
      "_view_module": "@jupyter-widgets/controls",
      "_view_module_version": "1.5.0",
      "_view_name": "DropdownView",
      "description": "x",
      "description_tooltip": null,
      "disabled": false,
      "index": 0,
      "layout": "IPY_MODEL_c94de0ecc761485ea8202ea753c925fe",
      "style": "IPY_MODEL_72eb30f63f9b464c9b326dc8f680f14c"
     }
    },
    "27f50519ed144caeb68de542238bf6ff": {
     "model_module": "@jupyter-widgets/controls",
     "model_name": "DropdownModel",
     "state": {
      "_dom_classes": [],
      "_model_module": "@jupyter-widgets/controls",
      "_model_module_version": "1.5.0",
      "_model_name": "DropdownModel",
      "_options_labels": [
       "invoices",
       "order leads",
       "sales"
      ],
      "_view_count": null,
      "_view_module": "@jupyter-widgets/controls",
      "_view_module_version": "1.5.0",
      "_view_name": "DropdownView",
      "description": "x",
      "description_tooltip": null,
      "disabled": false,
      "index": 0,
      "layout": "IPY_MODEL_2fbc58b076c94450b2d79b41d2e38b21",
      "style": "IPY_MODEL_dc6e76e7262642f8bbf0a282a4e69b20"
     }
    },
    "2cb439bb6bde4db0a55a53f972c57f44": {
     "model_module": "@jupyter-widgets/controls",
     "model_name": "ButtonModel",
     "state": {
      "_dom_classes": [],
      "_model_module": "@jupyter-widgets/controls",
      "_model_module_version": "1.5.0",
      "_model_name": "ButtonModel",
      "_view_count": null,
      "_view_module": "@jupyter-widgets/controls",
      "_view_module_version": "1.5.0",
      "_view_name": "ButtonView",
      "button_style": "",
      "description": "Run Interact",
      "disabled": false,
      "icon": "",
      "layout": "IPY_MODEL_8a0f169c72204aad892dda09c00ab280",
      "style": "IPY_MODEL_f27c1a2fb16e4cbeb8a7c5d404bf1d19",
      "tooltip": ""
     }
    },
    "2fbc58b076c94450b2d79b41d2e38b21": {
     "model_module": "@jupyter-widgets/base",
     "model_name": "LayoutModel",
     "state": {
      "_model_module": "@jupyter-widgets/base",
      "_model_module_version": "1.2.0",
      "_model_name": "LayoutModel",
      "_view_count": null,
      "_view_module": "@jupyter-widgets/base",
      "_view_module_version": "1.2.0",
      "_view_name": "LayoutView",
      "align_content": null,
      "align_items": null,
      "align_self": null,
      "border": null,
      "bottom": null,
      "display": null,
      "flex": null,
      "flex_flow": null,
      "grid_area": null,
      "grid_auto_columns": null,
      "grid_auto_flow": null,
      "grid_auto_rows": null,
      "grid_column": null,
      "grid_gap": null,
      "grid_row": null,
      "grid_template_areas": null,
      "grid_template_columns": null,
      "grid_template_rows": null,
      "height": null,
      "justify_content": null,
      "justify_items": null,
      "left": null,
      "margin": null,
      "max_height": null,
      "max_width": null,
      "min_height": null,
      "min_width": null,
      "object_fit": null,
      "object_position": null,
      "order": null,
      "overflow": null,
      "overflow_x": null,
      "overflow_y": null,
      "padding": null,
      "right": null,
      "top": null,
      "visibility": null,
      "width": null
     }
    },
    "3578f10f95564073ac0e3b2011b82872": {
     "model_module": "@jupyter-widgets/controls",
     "model_name": "DescriptionStyleModel",
     "state": {
      "_model_module": "@jupyter-widgets/controls",
      "_model_module_version": "1.5.0",
      "_model_name": "DescriptionStyleModel",
      "_view_count": null,
      "_view_module": "@jupyter-widgets/base",
      "_view_module_version": "1.2.0",
      "_view_name": "StyleView",
      "description_width": ""
     }
    },
    "4123aed923fa4af2a921365d04f417be": {
     "model_module": "@jupyter-widgets/output",
     "model_name": "OutputModel",
     "state": {
      "_dom_classes": [],
      "_model_module": "@jupyter-widgets/output",
      "_model_module_version": "1.0.0",
      "_model_name": "OutputModel",
      "_view_count": null,
      "_view_module": "@jupyter-widgets/output",
      "_view_module_version": "1.0.0",
      "_view_name": "OutputView",
      "layout": "IPY_MODEL_cb12709baa29487ca8ad1bed948dfb7e",
      "msg_id": "",
      "outputs": []
     }
    },
    "456698a795234e4cbc13107dcdee999e": {
     "model_module": "@jupyter-widgets/base",
     "model_name": "LayoutModel",
     "state": {
      "_model_module": "@jupyter-widgets/base",
      "_model_module_version": "1.2.0",
      "_model_name": "LayoutModel",
      "_view_count": null,
      "_view_module": "@jupyter-widgets/base",
      "_view_module_version": "1.2.0",
      "_view_name": "LayoutView",
      "align_content": null,
      "align_items": null,
      "align_self": null,
      "border": null,
      "bottom": null,
      "display": null,
      "flex": null,
      "flex_flow": null,
      "grid_area": null,
      "grid_auto_columns": null,
      "grid_auto_flow": null,
      "grid_auto_rows": null,
      "grid_column": null,
      "grid_gap": null,
      "grid_row": null,
      "grid_template_areas": null,
      "grid_template_columns": null,
      "grid_template_rows": null,
      "height": null,
      "justify_content": null,
      "justify_items": null,
      "left": null,
      "margin": null,
      "max_height": null,
      "max_width": null,
      "min_height": null,
      "min_width": null,
      "object_fit": null,
      "object_position": null,
      "order": null,
      "overflow": null,
      "overflow_x": null,
      "overflow_y": null,
      "padding": null,
      "right": null,
      "top": null,
      "visibility": null,
      "width": null
     }
    },
    "4d1135473119479fbf4f7022b6e6c2e3": {
     "model_module": "@jupyter-widgets/base",
     "model_name": "LayoutModel",
     "state": {
      "_model_module": "@jupyter-widgets/base",
      "_model_module_version": "1.2.0",
      "_model_name": "LayoutModel",
      "_view_count": null,
      "_view_module": "@jupyter-widgets/base",
      "_view_module_version": "1.2.0",
      "_view_name": "LayoutView",
      "align_content": null,
      "align_items": null,
      "align_self": null,
      "border": null,
      "bottom": null,
      "display": null,
      "flex": null,
      "flex_flow": null,
      "grid_area": null,
      "grid_auto_columns": null,
      "grid_auto_flow": null,
      "grid_auto_rows": null,
      "grid_column": null,
      "grid_gap": null,
      "grid_row": null,
      "grid_template_areas": null,
      "grid_template_columns": null,
      "grid_template_rows": null,
      "height": null,
      "justify_content": null,
      "justify_items": null,
      "left": null,
      "margin": null,
      "max_height": null,
      "max_width": null,
      "min_height": null,
      "min_width": null,
      "object_fit": null,
      "object_position": null,
      "order": null,
      "overflow": null,
      "overflow_x": null,
      "overflow_y": null,
      "padding": null,
      "right": null,
      "top": null,
      "visibility": null,
      "width": null
     }
    },
    "6599b16a108844b4a2f2d5ea647b73ce": {
     "model_module": "@jupyter-widgets/controls",
     "model_name": "ButtonStyleModel",
     "state": {
      "_model_module": "@jupyter-widgets/controls",
      "_model_module_version": "1.5.0",
      "_model_name": "ButtonStyleModel",
      "_view_count": null,
      "_view_module": "@jupyter-widgets/base",
      "_view_module_version": "1.2.0",
      "_view_name": "StyleView",
      "button_color": null,
      "font_weight": ""
     }
    },
    "71fb9f3452ff4cd684417edf46db42b7": {
     "model_module": "@jupyter-widgets/base",
     "model_name": "LayoutModel",
     "state": {
      "_model_module": "@jupyter-widgets/base",
      "_model_module_version": "1.2.0",
      "_model_name": "LayoutModel",
      "_view_count": null,
      "_view_module": "@jupyter-widgets/base",
      "_view_module_version": "1.2.0",
      "_view_name": "LayoutView",
      "align_content": null,
      "align_items": null,
      "align_self": null,
      "border": null,
      "bottom": null,
      "display": null,
      "flex": null,
      "flex_flow": null,
      "grid_area": null,
      "grid_auto_columns": null,
      "grid_auto_flow": null,
      "grid_auto_rows": null,
      "grid_column": null,
      "grid_gap": null,
      "grid_row": null,
      "grid_template_areas": null,
      "grid_template_columns": null,
      "grid_template_rows": null,
      "height": null,
      "justify_content": null,
      "justify_items": null,
      "left": null,
      "margin": null,
      "max_height": null,
      "max_width": null,
      "min_height": null,
      "min_width": null,
      "object_fit": null,
      "object_position": null,
      "order": null,
      "overflow": null,
      "overflow_x": null,
      "overflow_y": null,
      "padding": null,
      "right": null,
      "top": null,
      "visibility": null,
      "width": null
     }
    },
    "72eb30f63f9b464c9b326dc8f680f14c": {
     "model_module": "@jupyter-widgets/controls",
     "model_name": "DescriptionStyleModel",
     "state": {
      "_model_module": "@jupyter-widgets/controls",
      "_model_module_version": "1.5.0",
      "_model_name": "DescriptionStyleModel",
      "_view_count": null,
      "_view_module": "@jupyter-widgets/base",
      "_view_module_version": "1.2.0",
      "_view_name": "StyleView",
      "description_width": ""
     }
    },
    "74c0f877a6c440b98fab5655f2c64353": {
     "model_module": "@jupyter-widgets/controls",
     "model_name": "VBoxModel",
     "state": {
      "_dom_classes": [
       "widget-interact"
      ],
      "_model_module": "@jupyter-widgets/controls",
      "_model_module_version": "1.5.0",
      "_model_name": "VBoxModel",
      "_view_count": null,
      "_view_module": "@jupyter-widgets/controls",
      "_view_module_version": "1.5.0",
      "_view_name": "VBoxView",
      "box_style": "",
      "children": [
       "IPY_MODEL_248db4d6f3414482a37af68c15f3fb8d",
       "IPY_MODEL_9320e2074ca44eed89055a98d487fa3f",
       "IPY_MODEL_2cb439bb6bde4db0a55a53f972c57f44",
       "IPY_MODEL_d75890ce56f446c5a680f486dc0ad2f6"
      ],
      "layout": "IPY_MODEL_feecd028a5254e44bb43710e6deda56d"
     }
    },
    "765ca63b189841daa4457a1b0008c410": {
     "model_module": "@jupyter-widgets/base",
     "model_name": "LayoutModel",
     "state": {
      "_model_module": "@jupyter-widgets/base",
      "_model_module_version": "1.2.0",
      "_model_name": "LayoutModel",
      "_view_count": null,
      "_view_module": "@jupyter-widgets/base",
      "_view_module_version": "1.2.0",
      "_view_name": "LayoutView",
      "align_content": null,
      "align_items": null,
      "align_self": null,
      "border": null,
      "bottom": null,
      "display": null,
      "flex": null,
      "flex_flow": null,
      "grid_area": null,
      "grid_auto_columns": null,
      "grid_auto_flow": null,
      "grid_auto_rows": null,
      "grid_column": null,
      "grid_gap": null,
      "grid_row": null,
      "grid_template_areas": null,
      "grid_template_columns": null,
      "grid_template_rows": null,
      "height": null,
      "justify_content": null,
      "justify_items": null,
      "left": null,
      "margin": null,
      "max_height": null,
      "max_width": null,
      "min_height": null,
      "min_width": null,
      "object_fit": null,
      "object_position": null,
      "order": null,
      "overflow": null,
      "overflow_x": null,
      "overflow_y": null,
      "padding": null,
      "right": null,
      "top": null,
      "visibility": null,
      "width": null
     }
    },
    "76bea8c1023c431482f43d031f8e02d9": {
     "model_module": "@jupyter-widgets/controls",
     "model_name": "VBoxModel",
     "state": {
      "_dom_classes": [
       "widget-interact"
      ],
      "_model_module": "@jupyter-widgets/controls",
      "_model_module_version": "1.5.0",
      "_model_name": "VBoxModel",
      "_view_count": null,
      "_view_module": "@jupyter-widgets/controls",
      "_view_module_version": "1.5.0",
      "_view_name": "VBoxView",
      "box_style": "",
      "children": [
       "IPY_MODEL_27f50519ed144caeb68de542238bf6ff",
       "IPY_MODEL_d6d96ff91240445b97aef80f17fa596c",
       "IPY_MODEL_cb628c4dbadc4b8b8343b15354336e15"
      ],
      "layout": "IPY_MODEL_765ca63b189841daa4457a1b0008c410"
     }
    },
    "81212d3be5154d28815665f4f143235f": {
     "model_module": "@jupyter-widgets/base",
     "model_name": "LayoutModel",
     "state": {
      "_model_module": "@jupyter-widgets/base",
      "_model_module_version": "1.2.0",
      "_model_name": "LayoutModel",
      "_view_count": null,
      "_view_module": "@jupyter-widgets/base",
      "_view_module_version": "1.2.0",
      "_view_name": "LayoutView",
      "align_content": null,
      "align_items": null,
      "align_self": null,
      "border": null,
      "bottom": null,
      "display": null,
      "flex": null,
      "flex_flow": null,
      "grid_area": null,
      "grid_auto_columns": null,
      "grid_auto_flow": null,
      "grid_auto_rows": null,
      "grid_column": null,
      "grid_gap": null,
      "grid_row": null,
      "grid_template_areas": null,
      "grid_template_columns": null,
      "grid_template_rows": null,
      "height": null,
      "justify_content": null,
      "justify_items": null,
      "left": null,
      "margin": null,
      "max_height": null,
      "max_width": null,
      "min_height": null,
      "min_width": null,
      "object_fit": null,
      "object_position": null,
      "order": null,
      "overflow": null,
      "overflow_x": null,
      "overflow_y": null,
      "padding": null,
      "right": null,
      "top": null,
      "visibility": null,
      "width": null
     }
    },
    "850ce91dadf243ef98f38760dfc8debc": {
     "model_module": "@jupyter-widgets/controls",
     "model_name": "VBoxModel",
     "state": {
      "_dom_classes": [
       "widget-interact"
      ],
      "_model_module": "@jupyter-widgets/controls",
      "_model_module_version": "1.5.0",
      "_model_name": "VBoxModel",
      "_view_count": null,
      "_view_module": "@jupyter-widgets/controls",
      "_view_module_version": "1.5.0",
      "_view_name": "VBoxView",
      "box_style": "",
      "children": [
       "IPY_MODEL_c397883b1c934b47961ef341dbef74f0",
       "IPY_MODEL_d4dbd9cd5b9d42a6b0e43e11541dcfc7",
       "IPY_MODEL_946da16420544f8f911537ca3e05751a",
       "IPY_MODEL_4123aed923fa4af2a921365d04f417be"
      ],
      "layout": "IPY_MODEL_207e4b1f0b8b4181b4f02a1224700440"
     }
    },
    "8a0f169c72204aad892dda09c00ab280": {
     "model_module": "@jupyter-widgets/base",
     "model_name": "LayoutModel",
     "state": {
      "_model_module": "@jupyter-widgets/base",
      "_model_module_version": "1.2.0",
      "_model_name": "LayoutModel",
      "_view_count": null,
      "_view_module": "@jupyter-widgets/base",
      "_view_module_version": "1.2.0",
      "_view_name": "LayoutView",
      "align_content": null,
      "align_items": null,
      "align_self": null,
      "border": null,
      "bottom": null,
      "display": null,
      "flex": null,
      "flex_flow": null,
      "grid_area": null,
      "grid_auto_columns": null,
      "grid_auto_flow": null,
      "grid_auto_rows": null,
      "grid_column": null,
      "grid_gap": null,
      "grid_row": null,
      "grid_template_areas": null,
      "grid_template_columns": null,
      "grid_template_rows": null,
      "height": null,
      "justify_content": null,
      "justify_items": null,
      "left": null,
      "margin": null,
      "max_height": null,
      "max_width": null,
      "min_height": null,
      "min_width": null,
      "object_fit": null,
      "object_position": null,
      "order": null,
      "overflow": null,
      "overflow_x": null,
      "overflow_y": null,
      "padding": null,
      "right": null,
      "top": null,
      "visibility": null,
      "width": null
     }
    },
    "8b985dbaacf24ab1bfd89dea7826b371": {
     "model_module": "@jupyter-widgets/base",
     "model_name": "LayoutModel",
     "state": {
      "_model_module": "@jupyter-widgets/base",
      "_model_module_version": "1.2.0",
      "_model_name": "LayoutModel",
      "_view_count": null,
      "_view_module": "@jupyter-widgets/base",
      "_view_module_version": "1.2.0",
      "_view_name": "LayoutView",
      "align_content": null,
      "align_items": null,
      "align_self": null,
      "border": null,
      "bottom": null,
      "display": null,
      "flex": null,
      "flex_flow": null,
      "grid_area": null,
      "grid_auto_columns": null,
      "grid_auto_flow": null,
      "grid_auto_rows": null,
      "grid_column": null,
      "grid_gap": null,
      "grid_row": null,
      "grid_template_areas": null,
      "grid_template_columns": null,
      "grid_template_rows": null,
      "height": null,
      "justify_content": null,
      "justify_items": null,
      "left": null,
      "margin": null,
      "max_height": null,
      "max_width": null,
      "min_height": null,
      "min_width": null,
      "object_fit": null,
      "object_position": null,
      "order": null,
      "overflow": null,
      "overflow_x": null,
      "overflow_y": null,
      "padding": null,
      "right": null,
      "top": null,
      "visibility": null,
      "width": null
     }
    },
    "8f2a25414dfa4d87ae2e502d6da75c2b": {
     "model_module": "@jupyter-widgets/controls",
     "model_name": "ButtonStyleModel",
     "state": {
      "_model_module": "@jupyter-widgets/controls",
      "_model_module_version": "1.5.0",
      "_model_name": "ButtonStyleModel",
      "_view_count": null,
      "_view_module": "@jupyter-widgets/base",
      "_view_module_version": "1.2.0",
      "_view_name": "StyleView",
      "button_color": null,
      "font_weight": ""
     }
    },
    "9320e2074ca44eed89055a98d487fa3f": {
     "model_module": "@jupyter-widgets/controls",
     "model_name": "IntSliderModel",
     "state": {
      "_dom_classes": [],
      "_model_module": "@jupyter-widgets/controls",
      "_model_module_version": "1.5.0",
      "_model_name": "IntSliderModel",
      "_view_count": null,
      "_view_module": "@jupyter-widgets/controls",
      "_view_module_version": "1.5.0",
      "_view_name": "IntSliderView",
      "continuous_update": true,
      "description": "n",
      "description_tooltip": null,
      "disabled": false,
      "layout": "IPY_MODEL_4d1135473119479fbf4f7022b6e6c2e3",
      "max": 10,
      "min": 0,
      "orientation": "horizontal",
      "readout": true,
      "readout_format": "d",
      "step": 1,
      "style": "IPY_MODEL_f8bac6e6daf64c44a3dd0b63804951d5",
      "value": 5
     }
    },
    "946da16420544f8f911537ca3e05751a": {
     "model_module": "@jupyter-widgets/controls",
     "model_name": "ButtonModel",
     "state": {
      "_dom_classes": [],
      "_model_module": "@jupyter-widgets/controls",
      "_model_module_version": "1.5.0",
      "_model_name": "ButtonModel",
      "_view_count": null,
      "_view_module": "@jupyter-widgets/controls",
      "_view_module_version": "1.5.0",
      "_view_name": "ButtonView",
      "button_style": "",
      "description": "Run Interact",
      "disabled": false,
      "icon": "",
      "layout": "IPY_MODEL_8b985dbaacf24ab1bfd89dea7826b371",
      "style": "IPY_MODEL_c30fa0cf7b094e788c2b6e4fc4058910",
      "tooltip": ""
     }
    },
    "c2f99e0c27c24b65b8e62b80e4aacd7b": {
     "model_module": "@jupyter-widgets/controls",
     "model_name": "DescriptionStyleModel",
     "state": {
      "_model_module": "@jupyter-widgets/controls",
      "_model_module_version": "1.5.0",
      "_model_name": "DescriptionStyleModel",
      "_view_count": null,
      "_view_module": "@jupyter-widgets/base",
      "_view_module_version": "1.2.0",
      "_view_name": "StyleView",
      "description_width": ""
     }
    },
    "c30fa0cf7b094e788c2b6e4fc4058910": {
     "model_module": "@jupyter-widgets/controls",
     "model_name": "ButtonStyleModel",
     "state": {
      "_model_module": "@jupyter-widgets/controls",
      "_model_module_version": "1.5.0",
      "_model_name": "ButtonStyleModel",
      "_view_count": null,
      "_view_module": "@jupyter-widgets/base",
      "_view_module_version": "1.2.0",
      "_view_name": "StyleView",
      "button_color": null,
      "font_weight": ""
     }
    },
    "c397883b1c934b47961ef341dbef74f0": {
     "model_module": "@jupyter-widgets/controls",
     "model_name": "DropdownModel",
     "state": {
      "_dom_classes": [],
      "_model_module": "@jupyter-widgets/controls",
      "_model_module_version": "1.5.0",
      "_model_name": "DropdownModel",
      "_options_labels": [
       "invoices",
       "order leads",
       "sales"
      ],
      "_view_count": null,
      "_view_module": "@jupyter-widgets/controls",
      "_view_module_version": "1.5.0",
      "_view_name": "DropdownView",
      "description": "x",
      "description_tooltip": null,
      "disabled": false,
      "index": 0,
      "layout": "IPY_MODEL_c8a68521f8414406af5241d490edcb8f",
      "style": "IPY_MODEL_c2f99e0c27c24b65b8e62b80e4aacd7b"
     }
    },
    "c8a68521f8414406af5241d490edcb8f": {
     "model_module": "@jupyter-widgets/base",
     "model_name": "LayoutModel",
     "state": {
      "_model_module": "@jupyter-widgets/base",
      "_model_module_version": "1.2.0",
      "_model_name": "LayoutModel",
      "_view_count": null,
      "_view_module": "@jupyter-widgets/base",
      "_view_module_version": "1.2.0",
      "_view_name": "LayoutView",
      "align_content": null,
      "align_items": null,
      "align_self": null,
      "border": null,
      "bottom": null,
      "display": null,
      "flex": null,
      "flex_flow": null,
      "grid_area": null,
      "grid_auto_columns": null,
      "grid_auto_flow": null,
      "grid_auto_rows": null,
      "grid_column": null,
      "grid_gap": null,
      "grid_row": null,
      "grid_template_areas": null,
      "grid_template_columns": null,
      "grid_template_rows": null,
      "height": null,
      "justify_content": null,
      "justify_items": null,
      "left": null,
      "margin": null,
      "max_height": null,
      "max_width": null,
      "min_height": null,
      "min_width": null,
      "object_fit": null,
      "object_position": null,
      "order": null,
      "overflow": null,
      "overflow_x": null,
      "overflow_y": null,
      "padding": null,
      "right": null,
      "top": null,
      "visibility": null,
      "width": null
     }
    },
    "c8c5e4795e3f4d98bf4edee2f1da2608": {
     "model_module": "@jupyter-widgets/controls",
     "model_name": "VBoxModel",
     "state": {
      "_dom_classes": [
       "widget-interact"
      ],
      "_model_module": "@jupyter-widgets/controls",
      "_model_module_version": "1.5.0",
      "_model_name": "VBoxModel",
      "_view_count": null,
      "_view_module": "@jupyter-widgets/controls",
      "_view_module_version": "1.5.0",
      "_view_name": "VBoxView",
      "box_style": "",
      "children": [
       "IPY_MODEL_cd05713119cd479082d8f984e35c3100",
       "IPY_MODEL_dbe2708eaebc4f088d26ae1969f47e2d",
       "IPY_MODEL_fcad6c399dee4534954c1a85cb741bbb"
      ],
      "layout": "IPY_MODEL_fe437de5c99f45b9a9310c97199d7e3a"
     }
    },
    "c94de0ecc761485ea8202ea753c925fe": {
     "model_module": "@jupyter-widgets/base",
     "model_name": "LayoutModel",
     "state": {
      "_model_module": "@jupyter-widgets/base",
      "_model_module_version": "1.2.0",
      "_model_name": "LayoutModel",
      "_view_count": null,
      "_view_module": "@jupyter-widgets/base",
      "_view_module_version": "1.2.0",
      "_view_name": "LayoutView",
      "align_content": null,
      "align_items": null,
      "align_self": null,
      "border": null,
      "bottom": null,
      "display": null,
      "flex": null,
      "flex_flow": null,
      "grid_area": null,
      "grid_auto_columns": null,
      "grid_auto_flow": null,
      "grid_auto_rows": null,
      "grid_column": null,
      "grid_gap": null,
      "grid_row": null,
      "grid_template_areas": null,
      "grid_template_columns": null,
      "grid_template_rows": null,
      "height": null,
      "justify_content": null,
      "justify_items": null,
      "left": null,
      "margin": null,
      "max_height": null,
      "max_width": null,
      "min_height": null,
      "min_width": null,
      "object_fit": null,
      "object_position": null,
      "order": null,
      "overflow": null,
      "overflow_x": null,
      "overflow_y": null,
      "padding": null,
      "right": null,
      "top": null,
      "visibility": null,
      "width": null
     }
    },
    "cb628c4dbadc4b8b8343b15354336e15": {
     "model_module": "@jupyter-widgets/output",
     "model_name": "OutputModel",
     "state": {
      "_dom_classes": [],
      "_model_module": "@jupyter-widgets/output",
      "_model_module_version": "1.0.0",
      "_model_name": "OutputModel",
      "_view_count": null,
      "_view_module": "@jupyter-widgets/output",
      "_view_module_version": "1.0.0",
      "_view_name": "OutputView",
      "layout": "IPY_MODEL_0e5cf22ab3a94cdbab03e21a41fa5306",
      "msg_id": "",
      "outputs": []
     }
    },
    "cd05713119cd479082d8f984e35c3100": {
     "model_module": "@jupyter-widgets/controls",
     "model_name": "DropdownModel",
     "state": {
      "_dom_classes": [],
      "_model_module": "@jupyter-widgets/controls",
      "_model_module_version": "1.5.0",
      "_model_name": "DropdownModel",
      "_options_labels": [
       "invoices",
       "order leads",
       "sales"
      ],
      "_view_count": null,
      "_view_module": "@jupyter-widgets/controls",
      "_view_module_version": "1.5.0",
      "_view_name": "DropdownView",
      "description": "x",
      "description_tooltip": null,
      "disabled": false,
      "index": 0,
      "layout": "IPY_MODEL_71fb9f3452ff4cd684417edf46db42b7",
      "style": "IPY_MODEL_3578f10f95564073ac0e3b2011b82872"
     }
    },
    "d4dbd9cd5b9d42a6b0e43e11541dcfc7": {
     "model_module": "@jupyter-widgets/controls",
     "model_name": "DropdownModel",
     "state": {
      "_dom_classes": [],
      "_model_module": "@jupyter-widgets/controls",
      "_model_module_version": "1.5.0",
      "_model_name": "DropdownModel",
      "_options_labels": [
       "bars",
       "heatmap",
       "matrix"
      ],
      "_view_count": null,
      "_view_module": "@jupyter-widgets/controls",
      "_view_module_version": "1.5.0",
      "_view_name": "DropdownView",
      "description": "y",
      "description_tooltip": null,
      "disabled": false,
      "index": 0,
      "layout": "IPY_MODEL_fec3772856d9477d9796232ba9c2e68c",
      "style": "IPY_MODEL_2086956fb5834dcd865ab1de893bc3b1"
     }
    },
    "d6d96ff91240445b97aef80f17fa596c": {
     "model_module": "@jupyter-widgets/controls",
     "model_name": "ButtonModel",
     "state": {
      "_dom_classes": [],
      "_model_module": "@jupyter-widgets/controls",
      "_model_module_version": "1.5.0",
      "_model_name": "ButtonModel",
      "_view_count": null,
      "_view_module": "@jupyter-widgets/controls",
      "_view_module_version": "1.5.0",
      "_view_name": "ButtonView",
      "button_style": "",
      "description": "Run Interact",
      "disabled": false,
      "icon": "",
      "layout": "IPY_MODEL_81212d3be5154d28815665f4f143235f",
      "style": "IPY_MODEL_6599b16a108844b4a2f2d5ea647b73ce",
      "tooltip": ""
     }
    },
    "d75890ce56f446c5a680f486dc0ad2f6": {
     "model_module": "@jupyter-widgets/output",
     "model_name": "OutputModel",
     "state": {
      "_dom_classes": [],
      "_model_module": "@jupyter-widgets/output",
      "_model_module_version": "1.0.0",
      "_model_name": "OutputModel",
      "_view_count": null,
      "_view_module": "@jupyter-widgets/output",
      "_view_module_version": "1.0.0",
      "_view_name": "OutputView",
      "layout": "IPY_MODEL_012e44e228fe49c0bd1cf4713d8f72f2",
      "msg_id": "",
      "outputs": []
     }
    },
    "dbe2708eaebc4f088d26ae1969f47e2d": {
     "model_module": "@jupyter-widgets/controls",
     "model_name": "ButtonModel",
     "state": {
      "_dom_classes": [],
      "_model_module": "@jupyter-widgets/controls",
      "_model_module_version": "1.5.0",
      "_model_name": "ButtonModel",
      "_view_count": null,
      "_view_module": "@jupyter-widgets/controls",
      "_view_module_version": "1.5.0",
      "_view_name": "ButtonView",
      "button_style": "",
      "description": "Run Interact",
      "disabled": false,
      "icon": "",
      "layout": "IPY_MODEL_456698a795234e4cbc13107dcdee999e",
      "style": "IPY_MODEL_8f2a25414dfa4d87ae2e502d6da75c2b",
      "tooltip": ""
     }
    },
    "dc6e76e7262642f8bbf0a282a4e69b20": {
     "model_module": "@jupyter-widgets/controls",
     "model_name": "DescriptionStyleModel",
     "state": {
      "_model_module": "@jupyter-widgets/controls",
      "_model_module_version": "1.5.0",
      "_model_name": "DescriptionStyleModel",
      "_view_count": null,
      "_view_module": "@jupyter-widgets/base",
      "_view_module_version": "1.2.0",
      "_view_name": "StyleView",
      "description_width": ""
     }
    },
    "f27c1a2fb16e4cbeb8a7c5d404bf1d19": {
     "model_module": "@jupyter-widgets/controls",
     "model_name": "ButtonStyleModel",
     "state": {
      "_model_module": "@jupyter-widgets/controls",
      "_model_module_version": "1.5.0",
      "_model_name": "ButtonStyleModel",
      "_view_count": null,
      "_view_module": "@jupyter-widgets/base",
      "_view_module_version": "1.2.0",
      "_view_name": "StyleView",
      "button_color": null,
      "font_weight": ""
     }
    },
    "f8bac6e6daf64c44a3dd0b63804951d5": {
     "model_module": "@jupyter-widgets/controls",
     "model_name": "SliderStyleModel",
     "state": {
      "_model_module": "@jupyter-widgets/controls",
      "_model_module_version": "1.5.0",
      "_model_name": "SliderStyleModel",
      "_view_count": null,
      "_view_module": "@jupyter-widgets/base",
      "_view_module_version": "1.2.0",
      "_view_name": "StyleView",
      "description_width": "",
      "handle_color": null
     }
    },
    "fcad6c399dee4534954c1a85cb741bbb": {
     "model_module": "@jupyter-widgets/output",
     "model_name": "OutputModel",
     "state": {
      "_dom_classes": [],
      "_model_module": "@jupyter-widgets/output",
      "_model_module_version": "1.0.0",
      "_model_name": "OutputModel",
      "_view_count": null,
      "_view_module": "@jupyter-widgets/output",
      "_view_module_version": "1.0.0",
      "_view_name": "OutputView",
      "layout": "IPY_MODEL_5a4464499399416b9b01d3fcf39b9cd5",
      "msg_id": "",
      "outputs": []
     }
    },
    "fe437de5c99f45b9a9310c97199d7e3a": {
     "model_module": "@jupyter-widgets/base",
     "model_name": "LayoutModel",
     "state": {
      "_model_module": "@jupyter-widgets/base",
      "_model_module_version": "1.2.0",
      "_model_name": "LayoutModel",
      "_view_count": null,
      "_view_module": "@jupyter-widgets/base",
      "_view_module_version": "1.2.0",
      "_view_name": "LayoutView",
      "align_content": null,
      "align_items": null,
      "align_self": null,
      "border": null,
      "bottom": null,
      "display": null,
      "flex": null,
      "flex_flow": null,
      "grid_area": null,
      "grid_auto_columns": null,
      "grid_auto_flow": null,
      "grid_auto_rows": null,
      "grid_column": null,
      "grid_gap": null,
      "grid_row": null,
      "grid_template_areas": null,
      "grid_template_columns": null,
      "grid_template_rows": null,
      "height": null,
      "justify_content": null,
      "justify_items": null,
      "left": null,
      "margin": null,
      "max_height": null,
      "max_width": null,
      "min_height": null,
      "min_width": null,
      "object_fit": null,
      "object_position": null,
      "order": null,
      "overflow": null,
      "overflow_x": null,
      "overflow_y": null,
      "padding": null,
      "right": null,
      "top": null,
      "visibility": null,
      "width": null
     }
    },
    "fec3772856d9477d9796232ba9c2e68c": {
     "model_module": "@jupyter-widgets/base",
     "model_name": "LayoutModel",
     "state": {
      "_model_module": "@jupyter-widgets/base",
      "_model_module_version": "1.2.0",
      "_model_name": "LayoutModel",
      "_view_count": null,
      "_view_module": "@jupyter-widgets/base",
      "_view_module_version": "1.2.0",
      "_view_name": "LayoutView",
      "align_content": null,
      "align_items": null,
      "align_self": null,
      "border": null,
      "bottom": null,
      "display": null,
      "flex": null,
      "flex_flow": null,
      "grid_area": null,
      "grid_auto_columns": null,
      "grid_auto_flow": null,
      "grid_auto_rows": null,
      "grid_column": null,
      "grid_gap": null,
      "grid_row": null,
      "grid_template_areas": null,
      "grid_template_columns": null,
      "grid_template_rows": null,
      "height": null,
      "justify_content": null,
      "justify_items": null,
      "left": null,
      "margin": null,
      "max_height": null,
      "max_width": null,
      "min_height": null,
      "min_width": null,
      "object_fit": null,
      "object_position": null,
      "order": null,
      "overflow": null,
      "overflow_x": null,
      "overflow_y": null,
      "padding": null,
      "right": null,
      "top": null,
      "visibility": null,
      "width": null
     }
    },
    "feecd028a5254e44bb43710e6deda56d": {
     "model_module": "@jupyter-widgets/base",
     "model_name": "LayoutModel",
     "state": {
      "_model_module": "@jupyter-widgets/base",
      "_model_module_version": "1.2.0",
      "_model_name": "LayoutModel",
      "_view_count": null,
      "_view_module": "@jupyter-widgets/base",
      "_view_module_version": "1.2.0",
      "_view_name": "LayoutView",
      "align_content": null,
      "align_items": null,
      "align_self": null,
      "border": null,
      "bottom": null,
      "display": null,
      "flex": null,
      "flex_flow": null,
      "grid_area": null,
      "grid_auto_columns": null,
      "grid_auto_flow": null,
      "grid_auto_rows": null,
      "grid_column": null,
      "grid_gap": null,
      "grid_row": null,
      "grid_template_areas": null,
      "grid_template_columns": null,
      "grid_template_rows": null,
      "height": null,
      "justify_content": null,
      "justify_items": null,
      "left": null,
      "margin": null,
      "max_height": null,
      "max_width": null,
      "min_height": null,
      "min_width": null,
      "object_fit": null,
      "object_position": null,
      "order": null,
      "overflow": null,
      "overflow_x": null,
      "overflow_y": null,
      "padding": null,
      "right": null,
      "top": null,
      "visibility": null,
      "width": null
     }
    }
   }
  }
 },
 "nbformat": 4,
 "nbformat_minor": 1
}
